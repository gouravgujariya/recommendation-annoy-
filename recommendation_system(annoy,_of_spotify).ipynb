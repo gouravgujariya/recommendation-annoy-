{
  "nbformat": 4,
  "nbformat_minor": 0,
  "metadata": {
    "colab": {
      "provenance": []
    },
    "kernelspec": {
      "name": "python3",
      "display_name": "Python 3"
    },
    "language_info": {
      "name": "python"
    }
  },
  "cells": [
    {
      "cell_type": "code",
      "source": [
        "!pip install annoy"
      ],
      "metadata": {
        "colab": {
          "base_uri": "https://localhost:8080/"
        },
        "id": "pVY4xk1FpBWM",
        "outputId": "ed6894eb-3c6d-46b4-b1c8-4c7f19716fdf"
      },
      "execution_count": 6,
      "outputs": [
        {
          "output_type": "stream",
          "name": "stdout",
          "text": [
            "Requirement already satisfied: annoy in /root/.local/lib/python3.10/site-packages (1.17.3)\n"
          ]
        }
      ]
    },
    {
      "cell_type": "code",
      "source": [
        "!pip show annoy"
      ],
      "metadata": {
        "colab": {
          "base_uri": "https://localhost:8080/"
        },
        "id": "hI7DzwUlpkKO",
        "outputId": "eb2841ea-2853-47db-a62f-7c1e50056e4a"
      },
      "execution_count": 1,
      "outputs": [
        {
          "output_type": "stream",
          "name": "stdout",
          "text": [
            "Name: annoy\n",
            "Version: 1.17.3\n",
            "Summary: Approximate Nearest Neighbors in C++/Python optimized for memory usage and loading/saving to disk.\n",
            "Home-page: https://github.com/spotify/annoy\n",
            "Author: Erik Bernhardsson\n",
            "Author-email: mail@erikbern.com\n",
            "License: Apache License 2.0\n",
            "Location: /root/.local/lib/python3.10/site-packages\n",
            "Requires: \n",
            "Required-by: \n"
          ]
        }
      ]
    },
    {
      "cell_type": "code",
      "source": [
        "!pip install tensorflow-text"
      ],
      "metadata": {
        "colab": {
          "base_uri": "https://localhost:8080/"
        },
        "id": "SM2r08XJpaHl",
        "outputId": "8e5522e1-7b1c-4012-c221-ca0ee9b3cfe7"
      },
      "execution_count": 2,
      "outputs": [
        {
          "output_type": "stream",
          "name": "stdout",
          "text": [
            "Collecting tensorflow-text\n",
            "  Downloading tensorflow_text-2.17.0-cp310-cp310-manylinux_2_17_x86_64.manylinux2014_x86_64.whl.metadata (1.8 kB)\n",
            "Requirement already satisfied: tensorflow<2.18,>=2.17.0 in /usr/local/lib/python3.10/dist-packages (from tensorflow-text) (2.17.0)\n",
            "Requirement already satisfied: absl-py>=1.0.0 in /usr/local/lib/python3.10/dist-packages (from tensorflow<2.18,>=2.17.0->tensorflow-text) (1.4.0)\n",
            "Requirement already satisfied: astunparse>=1.6.0 in /usr/local/lib/python3.10/dist-packages (from tensorflow<2.18,>=2.17.0->tensorflow-text) (1.6.3)\n",
            "Requirement already satisfied: flatbuffers>=24.3.25 in /usr/local/lib/python3.10/dist-packages (from tensorflow<2.18,>=2.17.0->tensorflow-text) (24.3.25)\n",
            "Requirement already satisfied: gast!=0.5.0,!=0.5.1,!=0.5.2,>=0.2.1 in /usr/local/lib/python3.10/dist-packages (from tensorflow<2.18,>=2.17.0->tensorflow-text) (0.6.0)\n",
            "Requirement already satisfied: google-pasta>=0.1.1 in /usr/local/lib/python3.10/dist-packages (from tensorflow<2.18,>=2.17.0->tensorflow-text) (0.2.0)\n",
            "Requirement already satisfied: h5py>=3.10.0 in /usr/local/lib/python3.10/dist-packages (from tensorflow<2.18,>=2.17.0->tensorflow-text) (3.11.0)\n",
            "Requirement already satisfied: libclang>=13.0.0 in /usr/local/lib/python3.10/dist-packages (from tensorflow<2.18,>=2.17.0->tensorflow-text) (18.1.1)\n",
            "Requirement already satisfied: ml-dtypes<0.5.0,>=0.3.1 in /usr/local/lib/python3.10/dist-packages (from tensorflow<2.18,>=2.17.0->tensorflow-text) (0.4.0)\n",
            "Requirement already satisfied: opt-einsum>=2.3.2 in /usr/local/lib/python3.10/dist-packages (from tensorflow<2.18,>=2.17.0->tensorflow-text) (3.3.0)\n",
            "Requirement already satisfied: packaging in /usr/local/lib/python3.10/dist-packages (from tensorflow<2.18,>=2.17.0->tensorflow-text) (24.1)\n",
            "Requirement already satisfied: protobuf!=4.21.0,!=4.21.1,!=4.21.2,!=4.21.3,!=4.21.4,!=4.21.5,<5.0.0dev,>=3.20.3 in /usr/local/lib/python3.10/dist-packages (from tensorflow<2.18,>=2.17.0->tensorflow-text) (3.20.3)\n",
            "Requirement already satisfied: requests<3,>=2.21.0 in /usr/local/lib/python3.10/dist-packages (from tensorflow<2.18,>=2.17.0->tensorflow-text) (2.32.3)\n",
            "Requirement already satisfied: setuptools in /usr/local/lib/python3.10/dist-packages (from tensorflow<2.18,>=2.17.0->tensorflow-text) (71.0.4)\n",
            "Requirement already satisfied: six>=1.12.0 in /usr/local/lib/python3.10/dist-packages (from tensorflow<2.18,>=2.17.0->tensorflow-text) (1.16.0)\n",
            "Requirement already satisfied: termcolor>=1.1.0 in /usr/local/lib/python3.10/dist-packages (from tensorflow<2.18,>=2.17.0->tensorflow-text) (2.4.0)\n",
            "Requirement already satisfied: typing-extensions>=3.6.6 in /usr/local/lib/python3.10/dist-packages (from tensorflow<2.18,>=2.17.0->tensorflow-text) (4.12.2)\n",
            "Requirement already satisfied: wrapt>=1.11.0 in /usr/local/lib/python3.10/dist-packages (from tensorflow<2.18,>=2.17.0->tensorflow-text) (1.16.0)\n",
            "Requirement already satisfied: grpcio<2.0,>=1.24.3 in /usr/local/lib/python3.10/dist-packages (from tensorflow<2.18,>=2.17.0->tensorflow-text) (1.64.1)\n",
            "Requirement already satisfied: tensorboard<2.18,>=2.17 in /usr/local/lib/python3.10/dist-packages (from tensorflow<2.18,>=2.17.0->tensorflow-text) (2.17.0)\n",
            "Requirement already satisfied: keras>=3.2.0 in /usr/local/lib/python3.10/dist-packages (from tensorflow<2.18,>=2.17.0->tensorflow-text) (3.4.1)\n",
            "Requirement already satisfied: tensorflow-io-gcs-filesystem>=0.23.1 in /usr/local/lib/python3.10/dist-packages (from tensorflow<2.18,>=2.17.0->tensorflow-text) (0.37.1)\n",
            "Requirement already satisfied: numpy<2.0.0,>=1.23.5 in /usr/local/lib/python3.10/dist-packages (from tensorflow<2.18,>=2.17.0->tensorflow-text) (1.26.4)\n",
            "Requirement already satisfied: wheel<1.0,>=0.23.0 in /usr/local/lib/python3.10/dist-packages (from astunparse>=1.6.0->tensorflow<2.18,>=2.17.0->tensorflow-text) (0.44.0)\n",
            "Requirement already satisfied: rich in /usr/local/lib/python3.10/dist-packages (from keras>=3.2.0->tensorflow<2.18,>=2.17.0->tensorflow-text) (13.7.1)\n",
            "Requirement already satisfied: namex in /usr/local/lib/python3.10/dist-packages (from keras>=3.2.0->tensorflow<2.18,>=2.17.0->tensorflow-text) (0.0.8)\n",
            "Requirement already satisfied: optree in /usr/local/lib/python3.10/dist-packages (from keras>=3.2.0->tensorflow<2.18,>=2.17.0->tensorflow-text) (0.12.1)\n",
            "Requirement already satisfied: charset-normalizer<4,>=2 in /usr/local/lib/python3.10/dist-packages (from requests<3,>=2.21.0->tensorflow<2.18,>=2.17.0->tensorflow-text) (3.3.2)\n",
            "Requirement already satisfied: idna<4,>=2.5 in /usr/local/lib/python3.10/dist-packages (from requests<3,>=2.21.0->tensorflow<2.18,>=2.17.0->tensorflow-text) (3.7)\n",
            "Requirement already satisfied: urllib3<3,>=1.21.1 in /usr/local/lib/python3.10/dist-packages (from requests<3,>=2.21.0->tensorflow<2.18,>=2.17.0->tensorflow-text) (2.0.7)\n",
            "Requirement already satisfied: certifi>=2017.4.17 in /usr/local/lib/python3.10/dist-packages (from requests<3,>=2.21.0->tensorflow<2.18,>=2.17.0->tensorflow-text) (2024.7.4)\n",
            "Requirement already satisfied: markdown>=2.6.8 in /usr/local/lib/python3.10/dist-packages (from tensorboard<2.18,>=2.17->tensorflow<2.18,>=2.17.0->tensorflow-text) (3.7)\n",
            "Requirement already satisfied: tensorboard-data-server<0.8.0,>=0.7.0 in /usr/local/lib/python3.10/dist-packages (from tensorboard<2.18,>=2.17->tensorflow<2.18,>=2.17.0->tensorflow-text) (0.7.2)\n",
            "Requirement already satisfied: werkzeug>=1.0.1 in /usr/local/lib/python3.10/dist-packages (from tensorboard<2.18,>=2.17->tensorflow<2.18,>=2.17.0->tensorflow-text) (3.0.4)\n",
            "Requirement already satisfied: MarkupSafe>=2.1.1 in /usr/local/lib/python3.10/dist-packages (from werkzeug>=1.0.1->tensorboard<2.18,>=2.17->tensorflow<2.18,>=2.17.0->tensorflow-text) (2.1.5)\n",
            "Requirement already satisfied: markdown-it-py>=2.2.0 in /usr/local/lib/python3.10/dist-packages (from rich->keras>=3.2.0->tensorflow<2.18,>=2.17.0->tensorflow-text) (3.0.0)\n",
            "Requirement already satisfied: pygments<3.0.0,>=2.13.0 in /usr/local/lib/python3.10/dist-packages (from rich->keras>=3.2.0->tensorflow<2.18,>=2.17.0->tensorflow-text) (2.16.1)\n",
            "Requirement already satisfied: mdurl~=0.1 in /usr/local/lib/python3.10/dist-packages (from markdown-it-py>=2.2.0->rich->keras>=3.2.0->tensorflow<2.18,>=2.17.0->tensorflow-text) (0.1.2)\n",
            "Downloading tensorflow_text-2.17.0-cp310-cp310-manylinux_2_17_x86_64.manylinux2014_x86_64.whl (5.2 MB)\n",
            "\u001b[2K   \u001b[90m━━━━━━━━━━━━━━━━━━━━━━━━━━━━━━━━━━━━━━━━\u001b[0m \u001b[32m5.2/5.2 MB\u001b[0m \u001b[31m35.2 MB/s\u001b[0m eta \u001b[36m0:00:00\u001b[0m\n",
            "\u001b[?25hInstalling collected packages: tensorflow-text\n",
            "Successfully installed tensorflow-text-2.17.0\n"
          ]
        }
      ]
    },
    {
      "cell_type": "code",
      "source": [
        "import pandas as pd\n",
        "import numpy as np\n",
        "import tensorflow as tf\n",
        "from tensorflow.keras.preprocessing.text import Tokenizer\n",
        "from tensorflow.keras.preprocessing.sequence import pad_sequences\n",
        "from annoy import AnnoyIndex\n",
        "\n",
        "# 1. Load the dataset\n",
        "data = pd.read_csv('/content/amazon.csv')\n",
        "\n",
        "# 2. NLP Preprocessing\n",
        "def preprocess_text(text):\n",
        "    text = text.lower()\n",
        "    return text\n",
        "\n",
        "data['product_name'] = data['product_name'].apply(preprocess_text)\n",
        "data['category'] = data['category'].apply(preprocess_text)\n",
        "data['about_product'] = data['about_product'].apply(preprocess_text)\n",
        "\n",
        "# 3. Tokenization and Embedding\n",
        "# Define tokenizer\n",
        "tokenizer = Tokenizer()\n",
        "texts = data['product_name'].tolist() + data['category'].tolist() + data['about_product'].tolist()\n",
        "tokenizer.fit_on_texts(texts)\n",
        "\n",
        "# Convert text to sequences\n",
        "data['product_name_seq'] = tokenizer.texts_to_sequences(data['product_name'])\n",
        "data['category_seq'] = tokenizer.texts_to_sequences(data['category'])\n",
        "data['about_product_seq'] = tokenizer.texts_to_sequences(data['about_product'])\n",
        "\n",
        "# Define max length and padding\n",
        "max_len = 50\n",
        "data['product_name_seq'] = pad_sequences(data['product_name_seq'], maxlen=max_len, padding='post').tolist()\n",
        "data['category_seq'] = pad_sequences(data['category_seq'], maxlen=max_len, padding='post').tolist()\n",
        "data['about_product_seq'] = pad_sequences(data['about_product_seq'], maxlen=max_len, padding='post').tolist()\n",
        "\n",
        "# Embedding layer\n",
        "vocab_size = len(tokenizer.word_index) + 1\n",
        "embedding_dim = 50  # You can adjust this dimension\n",
        "\n",
        "embedding_layer = tf.keras.layers.Embedding(input_dim=vocab_size, output_dim=embedding_dim)\n",
        "\n",
        "def get_embeddings(seq_list):\n",
        "    # Convert the sequence to a tensor\n",
        "    seq_tensor = tf.convert_to_tensor([seq_list], dtype=tf.int32)\n",
        "    # Get the embedding and convert it to a NumPy array\n",
        "    embedding = embedding_layer(seq_tensor).numpy()\n",
        "    # Return the mean of the embeddings along the sequence length\n",
        "    return np.mean(embedding, axis=1)[0]\n",
        "\n",
        "# Apply embedding to each column\n",
        "data['product_name_emb'] = data['product_name_seq'].apply(get_embeddings)\n",
        "data['category_emb'] = data['category_seq'].apply(get_embeddings)\n",
        "data['about_product_emb'] = data['about_product_seq'].apply(get_embeddings)\n",
        "\n",
        "# 4. Combine embeddings into a single vector for each product\n",
        "data['combined_emb'] = data.apply(lambda row: np.mean([\n",
        "    row['product_name_emb'],\n",
        "    row['category_emb'],\n",
        "    row['about_product_emb']\n",
        "], axis=0), axis=1)\n",
        "\n",
        "# 5. Build the Annoy Index\n",
        "dimension = embedding_dim  # The dimension used in the embedding layer\n",
        "annoy_index = AnnoyIndex(dimension, 'angular')\n",
        "\n",
        "# Add items to Annoy index\n",
        "for i, embedding in enumerate(data['combined_emb']):\n",
        "    annoy_index.add_item(i, embedding)\n",
        "\n",
        "annoy_index.build(n_trees=10)  # Build the index with 10 trees for efficiency\n",
        "\n",
        "# 6. Query for k=20 similar products\n",
        "def find_similar_products(query_text, k=20):\n",
        "    query_seq = pad_sequences(tokenizer.texts_to_sequences([preprocess_text(query_text)]), maxlen=max_len, padding='post')\n",
        "    query_tensor = tf.convert_to_tensor(query_seq, dtype=tf.int32)\n",
        "    query_emb = np.mean(embedding_layer(query_tensor).numpy(), axis=1)[0]\n",
        "    similar_indices = annoy_index.get_nns_by_vector(query_emb, k)\n",
        "    return data.iloc[similar_indices]\n",
        "\n",
        "# Example query\n",
        "query = \"smartphone with high-resolution camera\"\n",
        "similar_products = find_similar_products(query)\n",
        "\n",
        "print(similar_products[['product_id', 'product_name', 'category', 'about_product']])\n"
      ],
      "metadata": {
        "colab": {
          "base_uri": "https://localhost:8080/"
        },
        "id": "a__m6g0IpfQm",
        "outputId": "71a445e9-c4e0-4587-efe6-c52353efaae9"
      },
      "execution_count": 8,
      "outputs": [
        {
          "output_type": "stream",
          "name": "stdout",
          "text": [
            "      product_id                                       product_name  \\\n",
            "1382  B07TTSS5MP  lifelong llmg74 750 watt mixer grinder with 3 ...   \n",
            "1235  B095XCRDQW  esquire laundry basket brown, 50 ltr capacity(...   \n",
            "1111  B071VNHMX2  philips daily collection hd2582/00 830-watt 2-...   \n",
            "217   B08PPHFXG3  posh 1.5 meter high speed gold plated hdmi mal...   \n",
            "904   B00LY1FN1K  camel fabrica acrylic ultra color - 15ml each,...   \n",
            "1118  B09CGLY5CX  crompton insta comfort heater 2000 watts heat ...   \n",
            "1322  B08ZHYNTM1  havells festiva 1200mm dust resistant ceiling ...   \n",
            "55    B01N90RZ4M                          tata sky universal remote   \n",
            "1372  B07F1T31ZZ  raffles premium stainless steel south indian c...   \n",
            "431   B0116MIKKC  goldmedal curve plus 202042 plastic spice 3-pi...   \n",
            "1312  B09VL9KFDB   havells gatik neo 400mm pedestal fan (aqua blue)   \n",
            "468   B0B244R4KB  spigen ez fit tempered glass screen protector ...   \n",
            "1453  B07K19NYZ8               usha hc 812 t thermo fan room heater   \n",
            "447   B095RTJH1M  spigen ez fit tempered glass screen protector ...   \n",
            "1402  B00935MGHS  prestige psmfb 800 watt sandwich toaster with ...   \n",
            "459   B0B23LW7NV  spigen ez fit tempered glass screen protector ...   \n",
            "762   B08QDPB1SL     duracell chhota power aa battery set of 10 pcs   \n",
            "132   B08L4SBJRY  saifsmart outlet wall mount hanger holder for ...   \n",
            "1461  B01M6453MB  prestige delight prwo electric rice cooker (1 ...   \n",
            "523   B01F262EUU  samsung original ehs64 wired in ear earphones ...   \n",
            "\n",
            "                                               category  \\\n",
            "1382  home&kitchen,kitchen&homeappliances,smallkitch...   \n",
            "1235  home&kitchen,homestorage&organization,laundryo...   \n",
            "1111  home&kitchen,kitchen&homeappliances,smallkitch...   \n",
            "217   electronics,hometheater,tv&video,accessories,c...   \n",
            "904   home&kitchen,craftmaterials,paintingmaterials,...   \n",
            "1118  home&kitchen,heating,cooling&airquality,roomhe...   \n",
            "1322  home&kitchen,heating,cooling&airquality,fans,c...   \n",
            "55    electronics,hometheater,tv&video,accessories,r...   \n",
            "1372  home&kitchen,kitchen&homeappliances,coffee,tea...   \n",
            "431   electronics,mobiles&accessories,mobileaccessor...   \n",
            "1312  home&kitchen,heating,cooling&airquality,fans,t...   \n",
            "468   electronics,mobiles&accessories,mobileaccessor...   \n",
            "1453  home&kitchen,heating,cooling&airquality,roomhe...   \n",
            "447   electronics,mobiles&accessories,mobileaccessor...   \n",
            "1402  home&kitchen,kitchen&homeappliances,smallkitch...   \n",
            "459   electronics,mobiles&accessories,mobileaccessor...   \n",
            "762   electronics,generalpurposebatteries&batterycha...   \n",
            "132   electronics,homeaudio,accessories,speakeracces...   \n",
            "1461  home&kitchen,kitchen&homeappliances,smallkitch...   \n",
            "523   electronics,headphones,earbuds&accessories,hea...   \n",
            "\n",
            "                                          about_product  \n",
            "1382                                   warranty: 1 year  \n",
            "1235  crafted with care|it is designed keeping your ...  \n",
            "1111  frequency: 50-60 hz, wattage: 830 w, integrate...  \n",
            "217                            perfect|100 % compatible  \n",
            "904   10 assorted ultra shades in 15ml bottle|confir...  \n",
            "1118  two heat setting|adjustable thermostat|over he...  \n",
            "1322  design and finish exotic rich looks with moder...  \n",
            "55    universal remote control|ensures long lastinga...  \n",
            "1372                       crafted from stainless steel  \n",
            "431   led indicator|trendy two colours|compatible wi...  \n",
            "1312  twin colour design.wattage: 60 watts.voltage: ...  \n",
            "468                                      compatibility   \n",
            "1453               heat convector|warranty for one year  \n",
            "447                                      compatibility   \n",
            "1402  content: prestige sandwich toaster with fixed ...  \n",
            "459                                      compatibility   \n",
            "762   duracell aa chota power batteries|alkaline lr0...  \n",
            "132                                           hand free  \n",
            "1461                       230 volts, 400 watts, 1 year  \n",
            "523   in ear volume control. water resistant: yes|de...  \n"
          ]
        }
      ]
    }
  ]
}